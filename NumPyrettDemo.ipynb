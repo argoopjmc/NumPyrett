{
  "nbformat": 4,
  "nbformat_minor": 0,
  "metadata": {
    "colab": {
      "name": "NumPyrettDemo.ipynb",
      "provenance": []
    },
    "kernelspec": {
      "name": "python3",
      "display_name": "Python 3"
    },
    "language_info": {
      "name": "python"
    }
  },
  "cells": [
    {
      "cell_type": "code",
      "metadata": {
        "colab": {
          "base_uri": "https://localhost:8080/"
        },
        "id": "Um6_jSSP_r5J",
        "outputId": "3b617d81-63d4-449a-8dc3-37fc1ff1b8d6"
      },
      "source": [
        "!pip install NumPyrett"
      ],
      "execution_count": 1,
      "outputs": [
        {
          "output_type": "stream",
          "text": [
            "Collecting NumPyrett\n",
            "  Downloading https://files.pythonhosted.org/packages/b4/b3/6aaba46721c8c6da606569c26b3f64f84464863162c0481c8582c0e8f156/NumPyrett-0.9.tar.gz\n",
            "Requirement already satisfied: numpy in /usr/local/lib/python3.7/dist-packages (from NumPyrett) (1.19.5)\n",
            "Building wheels for collected packages: NumPyrett\n",
            "  Building wheel for NumPyrett (setup.py) ... \u001b[?25l\u001b[?25hdone\n",
            "  Created wheel for NumPyrett: filename=NumPyrett-0.9-cp37-none-any.whl size=2631 sha256=5e4603febb58b025e8215c5560fc5a2e05358d36331e4b88a3e596257c58d677\n",
            "  Stored in directory: /root/.cache/pip/wheels/d2/96/91/eac1f555d1ae3c32a0f53b2987f3048e2c939d4fe5fcc0f1a9\n",
            "Successfully built NumPyrett\n",
            "Installing collected packages: NumPyrett\n",
            "Successfully installed NumPyrett-0.9\n"
          ],
          "name": "stdout"
        }
      ]
    },
    {
      "cell_type": "code",
      "metadata": {
        "colab": {
          "base_uri": "https://localhost:8080/",
          "height": 732
        },
        "id": "FhdlSQ7h_0j6",
        "outputId": "ab6f3407-29f6-4c05-8317-05c091141241"
      },
      "source": [
        "from IPython.display import display, Markdown , Math\n",
        "from NumPyrett import formatPoly , latex_matrix\n",
        "import numpy as np\n",
        "# Adding two polynomials\n",
        "poly1 = np.poly1d([1, -3, 2])\n",
        "poly2 = np.poly1d([1, -2, -5, 6])\n",
        "# Adding two polynomials\n",
        "# The way numpy displays it looks atrocious\n",
        "# Can't even print it inline\n",
        "print('Printed representation of the sum of the polynomials using NumPy:\\n ',poly1 + poly2)\n",
        "print('\\n')\n",
        "# Adding two polynomials\n",
        "# Using numpyrett this is a thing of beauty , a joy forever :-)\n",
        "# It's inline!\n",
        "display(  Markdown(\"Printed representation of the sum of the polynomials using NumPyrett :\") , Math( formatPoly(poly1 + poly2 )))\n",
        "print('\\n')\n",
        "display(Markdown(\"Printed representation of the product of the polynomials using NumPyrett :\") , Math(formatPoly(poly1 * poly2 , True, '{:0.2f}' , True , r'\\Omega')))\n",
        "print('\\n')\n",
        "# Equation for circle with radius 0.5 centred at (0,0)\n",
        "circle_eqn =  np.poly1d([1, -1, 0.25])\n",
        "# Assume  it is for a parameter lambda\n",
        "display(Markdown(\"Printed representation of the circle's parametric equation using NumPyrett :\") ,Math(formatPoly(circle_eqn , False , '{:0.8f}' , True , r'\\lambda') + r'=0'))\n",
        "print('\\n')\n",
        "A = np.array([[12.5, 5, 2], [20, 4, 8], [ 2, 4, 3], [ 7, 1, 10]])\n",
        "B = np.array([[1.2], [3.7], [0.2]])\n",
        "C = np.array([1.2, 9.3, 0.6, -2.1])\n",
        "\n",
        "display(Markdown(\"Printed representation of Matrix A using NumPyrett's decimal mode :\") ,Math(latex_matrix(A,'Vmatrix',True,'{:0.5f}') + '\\n'))\n",
        "print('\\n')\n",
        "display(Markdown(\"Printed representation of Matrix A using NumPyrett's default fraction mode :\") ,Math(latex_matrix(A,'bmatrix') + '\\n'))\n",
        "b = np.matrix([[5, 6, 7], [4, 6,7]])\n",
        "print('\\n')\n",
        "display(Markdown(\"Printed representation of Matrix B using NumPyrett :\") ,Math(latex_matrix(b,'pmatrix') + '\\n'))"
      ],
      "execution_count": 3,
      "outputs": [
        {
          "output_type": "stream",
          "text": [
            "Printed representation of the sum of the polynomials using NumPy:\n",
            "     3     2\n",
            "1 x - 1 x - 8 x + 8\n",
            "\n",
            "\n"
          ],
          "name": "stdout"
        },
        {
          "output_type": "display_data",
          "data": {
            "text/markdown": "Printed representation of the sum of the polynomials using NumPyrett :",
            "text/plain": [
              "<IPython.core.display.Markdown object>"
            ]
          },
          "metadata": {
            "tags": []
          }
        },
        {
          "output_type": "display_data",
          "data": {
            "text/latex": "$$ \\displaystyle  x^{3} -x^2 -8x + 8$$",
            "text/plain": [
              "<IPython.core.display.Math object>"
            ]
          },
          "metadata": {
            "tags": []
          }
        },
        {
          "output_type": "stream",
          "text": [
            "\n",
            "\n"
          ],
          "name": "stdout"
        },
        {
          "output_type": "display_data",
          "data": {
            "text/markdown": "Printed representation of the product of the polynomials using NumPyrett :",
            "text/plain": [
              "<IPython.core.display.Markdown object>"
            ]
          },
          "metadata": {
            "tags": []
          }
        },
        {
          "output_type": "display_data",
          "data": {
            "text/latex": "$$ \\displaystyle 1.00\\Omega^{5} -5.00\\Omega^4 + 3.00\\Omega^3 + 17.00\\Omega^2 -28.00\\Omega + 12.00$$",
            "text/plain": [
              "<IPython.core.display.Math object>"
            ]
          },
          "metadata": {
            "tags": []
          }
        },
        {
          "output_type": "stream",
          "text": [
            "\n",
            "\n"
          ],
          "name": "stdout"
        },
        {
          "output_type": "display_data",
          "data": {
            "text/markdown": "Printed representation of the circle's parametric equation using NumPyrett :",
            "text/plain": [
              "<IPython.core.display.Markdown object>"
            ]
          },
          "metadata": {
            "tags": []
          }
        },
        {
          "output_type": "display_data",
          "data": {
            "text/latex": "$$ \\displaystyle  \\lambda^{2} -\\lambda + \\frac{1}{4}=0$$",
            "text/plain": [
              "<IPython.core.display.Math object>"
            ]
          },
          "metadata": {
            "tags": []
          }
        },
        {
          "output_type": "stream",
          "text": [
            "\n",
            "\n"
          ],
          "name": "stdout"
        },
        {
          "output_type": "display_data",
          "data": {
            "text/markdown": "Printed representation of Matrix A using NumPyrett's decimal mode :",
            "text/plain": [
              "<IPython.core.display.Markdown object>"
            ]
          },
          "metadata": {
            "tags": []
          }
        },
        {
          "output_type": "display_data",
          "data": {
            "text/latex": "$$\\begin{Vmatrix}\n  12.50000 & 5.00000 & 2.00000\\\\\n  20.00000 & 4.00000 & 8.00000\\\\\n  2.00000 & 4.00000 & 3.00000\\\\\n  7.00000 & 1.00000 & 10.00000\\\\\n\\end{Vmatrix}\n$$",
            "text/plain": [
              "<IPython.core.display.Math object>"
            ]
          },
          "metadata": {
            "tags": []
          }
        },
        {
          "output_type": "stream",
          "text": [
            "\n",
            "\n"
          ],
          "name": "stdout"
        },
        {
          "output_type": "display_data",
          "data": {
            "text/markdown": "Printed representation of Matrix A using NumPyrett's default fraction mode :",
            "text/plain": [
              "<IPython.core.display.Markdown object>"
            ]
          },
          "metadata": {
            "tags": []
          }
        },
        {
          "output_type": "display_data",
          "data": {
            "text/latex": "$$\\begin{bmatrix}\n  \\frac{25}{2} & 5 & 2\\\\\n  20 & 4 & 8\\\\\n  2 & 4 & 3\\\\\n  7 & 1 & 10\\\\\n\\end{bmatrix}\n$$",
            "text/plain": [
              "<IPython.core.display.Math object>"
            ]
          },
          "metadata": {
            "tags": []
          }
        },
        {
          "output_type": "stream",
          "text": [
            "\n",
            "\n"
          ],
          "name": "stdout"
        },
        {
          "output_type": "display_data",
          "data": {
            "text/markdown": "Printed representation of Matrix B using NumPyrett :",
            "text/plain": [
              "<IPython.core.display.Markdown object>"
            ]
          },
          "metadata": {
            "tags": []
          }
        },
        {
          "output_type": "display_data",
          "data": {
            "text/latex": "$$\\begin{pmatrix}\n  5 & 6 & 7\\\\\n  4 & 6 & 7\\\\\n\\end{pmatrix}\n$$",
            "text/plain": [
              "<IPython.core.display.Math object>"
            ]
          },
          "metadata": {
            "tags": []
          }
        }
      ]
    }
  ]
}