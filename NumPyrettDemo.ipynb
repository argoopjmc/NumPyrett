{
  "nbformat": 4,
  "nbformat_minor": 0,
  "metadata": {
    "colab": {
      "name": "NumPyrettDemo.ipynb",
      "provenance": []
    },
    "kernelspec": {
      "name": "python3",
      "display_name": "Python 3"
    },
    "language_info": {
      "name": "python"
    }
  },
  "cells": [
    {
      "cell_type": "code",
      "metadata": {
        "colab": {
          "base_uri": "https://localhost:8080/"
        },
        "id": "Um6_jSSP_r5J",
        "outputId": "d799d025-130a-4f1e-af39-c513a775dcb3"
      },
      "source": [
        "!pip install NumPyrett"
      ],
      "execution_count": 1,
      "outputs": [
        {
          "output_type": "stream",
          "text": [
            "Collecting NumPyrett\n",
            "  Downloading https://files.pythonhosted.org/packages/ba/56/b9d791e13e32a42ca0b7b9803ea3bc13af41bed0393186b46ad78e88c0ca/NumPyrett-1.0.tar.gz\n",
            "Requirement already satisfied: numpy in /usr/local/lib/python3.7/dist-packages (from NumPyrett) (1.19.5)\n",
            "Requirement already satisfied: ipython in /usr/local/lib/python3.7/dist-packages (from NumPyrett) (5.5.0)\n",
            "Requirement already satisfied: setuptools>=18.5 in /usr/local/lib/python3.7/dist-packages (from ipython->NumPyrett) (57.0.0)\n",
            "Requirement already satisfied: simplegeneric>0.8 in /usr/local/lib/python3.7/dist-packages (from ipython->NumPyrett) (0.8.1)\n",
            "Requirement already satisfied: prompt-toolkit<2.0.0,>=1.0.4 in /usr/local/lib/python3.7/dist-packages (from ipython->NumPyrett) (1.0.18)\n",
            "Requirement already satisfied: decorator in /usr/local/lib/python3.7/dist-packages (from ipython->NumPyrett) (4.4.2)\n",
            "Requirement already satisfied: pexpect; sys_platform != \"win32\" in /usr/local/lib/python3.7/dist-packages (from ipython->NumPyrett) (4.8.0)\n",
            "Requirement already satisfied: traitlets>=4.2 in /usr/local/lib/python3.7/dist-packages (from ipython->NumPyrett) (5.0.5)\n",
            "Requirement already satisfied: pickleshare in /usr/local/lib/python3.7/dist-packages (from ipython->NumPyrett) (0.7.5)\n",
            "Requirement already satisfied: pygments in /usr/local/lib/python3.7/dist-packages (from ipython->NumPyrett) (2.6.1)\n",
            "Requirement already satisfied: wcwidth in /usr/local/lib/python3.7/dist-packages (from prompt-toolkit<2.0.0,>=1.0.4->ipython->NumPyrett) (0.2.5)\n",
            "Requirement already satisfied: six>=1.9.0 in /usr/local/lib/python3.7/dist-packages (from prompt-toolkit<2.0.0,>=1.0.4->ipython->NumPyrett) (1.15.0)\n",
            "Requirement already satisfied: ptyprocess>=0.5 in /usr/local/lib/python3.7/dist-packages (from pexpect; sys_platform != \"win32\"->ipython->NumPyrett) (0.7.0)\n",
            "Requirement already satisfied: ipython-genutils in /usr/local/lib/python3.7/dist-packages (from traitlets>=4.2->ipython->NumPyrett) (0.2.0)\n",
            "Building wheels for collected packages: NumPyrett\n",
            "  Building wheel for NumPyrett (setup.py) ... \u001b[?25l\u001b[?25hdone\n",
            "  Created wheel for NumPyrett: filename=NumPyrett-1.0-cp37-none-any.whl size=3152 sha256=1c567406bbfe4ea53a9ad1b6f0129305289cbf4aef900109b1dbd51c042067ce\n",
            "  Stored in directory: /root/.cache/pip/wheels/85/f1/3c/19d8bbccbb79626f55eaf65505c0bd49e8daa1c7767eb377c2\n",
            "Successfully built NumPyrett\n",
            "Installing collected packages: NumPyrett\n",
            "Successfully installed NumPyrett-1.0\n"
          ],
          "name": "stdout"
        }
      ]
    },
    {
      "cell_type": "code",
      "metadata": {
        "colab": {
          "base_uri": "https://localhost:8080/",
          "height": 574
        },
        "id": "FhdlSQ7h_0j6",
        "outputId": "0d69ec59-fc50-43e3-aed9-3c3112998070"
      },
      "source": [
        "from NumPyrett import formatPoly , latex_matrix\n",
        "import numpy as np\n",
        "# Adding two polynomials\n",
        "poly1 = np.poly1d([1, -3, 2])\n",
        "poly2 = np.poly1d([1, -2, -5, 6])\n",
        "# Adding two polynomials\n",
        "# The way numpy displays it looks atrocious\n",
        "# Can't even print it inline\n",
        "print('Printed representation of the sum of the polynomials using NumPy:\\n ',poly1 + poly2)\n",
        "print('\\n')\n",
        "# Adding two polynomials\n",
        "# Using numpyrett this is a thing of beauty , a joy forever :-)\n",
        "# It's inline!\n",
        "formatPoly(poly1 + poly2 )\n",
        "print('\\n')\n",
        "# The product\n",
        "formatPoly(poly1 * poly2 , True, '{:0.2f}' , True , r'\\Omega')\n",
        "print('\\n')\n",
        "# Equation for circle with radius 0.5 centred at (0,0)\n",
        "circle_eqn =  np.poly1d([1, -1, 0.25])\n",
        "# Assume  it is for a parameter lambda\n",
        "formatPoly(circle_eqn , False , '{:0.8f}' , True , r'\\lambda') \n",
        "print('\\n')\n",
        "A = np.array([[12.5, 5, 2], [20, 4, 8], [ 2, 4, 3], [ 7, 1, 10]])\n",
        "B = np.array([[1.2], [3.7], [0.2]])\n",
        "C = np.array([1.2, 9.3, 0.6, -2.1])\n",
        "latex_matrix(A,'Vmatrix',True,'{:0.5f}')\n",
        "print('\\n')\n",
        "latex_matrix(A,'bmatrix') \n",
        "b = np.matrix([[5, 6, 7], [4, 6,7]])\n",
        "print('\\n')\n",
        "latex_matrix(b,'pmatrix') "
      ],
      "execution_count": 2,
      "outputs": [
        {
          "output_type": "stream",
          "text": [
            "Printed representation of the sum of the polynomials using NumPy:\n",
            "     3     2\n",
            "1 x - 1 x - 8 x + 8\n",
            "\n",
            "\n"
          ],
          "name": "stdout"
        },
        {
          "output_type": "display_data",
          "data": {
            "text/latex": " \\displaystyle  x^{3} -x^2 -8x + 8",
            "text/plain": [
              "<IPython.core.display.Latex object>"
            ]
          },
          "metadata": {
            "tags": []
          }
        },
        {
          "output_type": "stream",
          "text": [
            "\n",
            "\n"
          ],
          "name": "stdout"
        },
        {
          "output_type": "display_data",
          "data": {
            "text/latex": " \\displaystyle 1.00\\Omega^{5} -5.00\\Omega^4 + 3.00\\Omega^3 + 17.00\\Omega^2 -28.00\\Omega + 12.00",
            "text/plain": [
              "<IPython.core.display.Latex object>"
            ]
          },
          "metadata": {
            "tags": []
          }
        },
        {
          "output_type": "stream",
          "text": [
            "\n",
            "\n"
          ],
          "name": "stdout"
        },
        {
          "output_type": "display_data",
          "data": {
            "text/latex": " \\displaystyle  \\lambda^{2} -\\lambda + \\frac{1}{4}",
            "text/plain": [
              "<IPython.core.display.Latex object>"
            ]
          },
          "metadata": {
            "tags": []
          }
        },
        {
          "output_type": "stream",
          "text": [
            "\n",
            "\n"
          ],
          "name": "stdout"
        },
        {
          "output_type": "display_data",
          "data": {
            "text/latex": "\\begin{Vmatrix}\n  12.50000 & 5.00000 & 2.00000\\\\\n  20.00000 & 4.00000 & 8.00000\\\\\n  2.00000 & 4.00000 & 3.00000\\\\\n  7.00000 & 1.00000 & 10.00000\\\\\n\\end{Vmatrix}",
            "text/plain": [
              "<IPython.core.display.Latex object>"
            ]
          },
          "metadata": {
            "tags": []
          }
        },
        {
          "output_type": "stream",
          "text": [
            "\n",
            "\n"
          ],
          "name": "stdout"
        },
        {
          "output_type": "display_data",
          "data": {
            "text/latex": "\\begin{bmatrix}\n  \\frac{25}{2} & 5 & 2\\\\\n  20 & 4 & 8\\\\\n  2 & 4 & 3\\\\\n  7 & 1 & 10\\\\\n\\end{bmatrix}",
            "text/plain": [
              "<IPython.core.display.Latex object>"
            ]
          },
          "metadata": {
            "tags": []
          }
        },
        {
          "output_type": "stream",
          "text": [
            "\n",
            "\n"
          ],
          "name": "stdout"
        },
        {
          "output_type": "display_data",
          "data": {
            "text/latex": "\\begin{pmatrix}\n  5 & 6 & 7\\\\\n  4 & 6 & 7\\\\\n\\end{pmatrix}",
            "text/plain": [
              "<IPython.core.display.Latex object>"
            ]
          },
          "metadata": {
            "tags": []
          }
        }
      ]
    },
    {
      "cell_type": "code",
      "metadata": {
        "id": "4RHA2XQv6wYE",
        "outputId": "a8d89091-84c3-4e18-be02-9a1b7647472a",
        "colab": {
          "base_uri": "https://localhost:8080/",
          "height": 77
        }
      },
      "source": [
        "from NumPyrett import pretty_list\n",
        "#Debugging the list [100,2,3,'h',5,1.00,7,8.0,9,1000,'a',2] for only ints\n",
        "\n",
        "list_debug = [100,2,3,'h',5,1.00,7,8.0,9,1000,'a',2]\n",
        "\n",
        "color_dict  = {}\n",
        "for i in range(len(list_debug)):\n",
        "  if (type(list_debug[i]) == int):\n",
        "    color_dict[i] = 'green'\n",
        "  elif (type(list_debug[i]) == float):\n",
        "    color_dict[i] = 'yellow'\n",
        "  else:\n",
        "    color_dict[i] = 'red'\n",
        "\n",
        "pretty_list(list_debug,color_dict)\n",
        "print('\\n')"
      ],
      "execution_count": 3,
      "outputs": [
        {
          "output_type": "display_data",
          "data": {
            "text/latex": "\\fcolorbox{green}{green}{100}\\fcolorbox{green}{green}{2}\\fcolorbox{green}{green}{3}\\fcolorbox{red}{red}{h}\\fcolorbox{green}{green}{5}\\fcolorbox{yellow}{yellow}{1.0}\\fcolorbox{green}{green}{7}\\fcolorbox{yellow}{yellow}{8.0}\\fcolorbox{green}{green}{9}\\fcolorbox{green}{green}{1000}\\fcolorbox{red}{red}{a}\\fcolorbox{green}{green}{2}",
            "text/plain": [
              "<IPython.core.display.Latex object>"
            ]
          },
          "metadata": {
            "tags": []
          }
        },
        {
          "output_type": "stream",
          "text": [
            "\n",
            "\n"
          ],
          "name": "stdout"
        }
      ]
    },
    {
      "cell_type": "code",
      "metadata": {
        "id": "k1fXLjw0NOty",
        "outputId": "00246249-e47f-4d2f-f5ed-c0aaefc09d81",
        "colab": {
          "base_uri": "https://localhost:8080/",
          "height": 930
        }
      },
      "source": [
        "from NumPyrett import class_info\n",
        "# Getting class information\n",
        "class Class1(object):\n",
        "    def __init__(self):\n",
        "        self.str1 = \"Class One\"\n",
        "    \n",
        "    def one(self):\n",
        "        print(self.str1)\n",
        "  \n",
        "class Class2(object):\n",
        "    def __init__(self):\n",
        "        self.str2 = \"Class Two\"    \n",
        "    def two(self):\n",
        "        print(self.str2)\n",
        "  \n",
        "class Class3(Class1, Class2):\n",
        "    def __init__(self):\n",
        "        self.str3 = \"Class Three\"          \n",
        "        Class1.__init__(self)\n",
        "        Class2.__init__(self)\n",
        "          \n",
        "    def three(self):\n",
        "        print(self.str3)\n",
        "\n",
        "class Class4(Class3):\n",
        "    def __init__(self):\n",
        "        self.str4 = \"Class Four\"       \n",
        "\n",
        "    def four(self):\n",
        "        print(self.str4)\n",
        "   \n",
        "\n",
        "class4 = Class4()\n",
        "class3 = Class3()\n",
        "class2 = Class2()\n",
        "class1 = Class1()\n",
        "\n",
        "class_info(class1)\n",
        "class_info(class2)\n",
        "class_info(class3)\n",
        "class_info(class4)\n"
      ],
      "execution_count": 4,
      "outputs": [
        {
          "output_type": "display_data",
          "data": {
            "text/markdown": "# Class Class1",
            "text/plain": [
              "<IPython.core.display.Markdown object>"
            ]
          },
          "metadata": {
            "tags": []
          }
        },
        {
          "output_type": "display_data",
          "data": {
            "text/markdown": "## Super Classes : {'object'}",
            "text/plain": [
              "<IPython.core.display.Markdown object>"
            ]
          },
          "metadata": {
            "tags": []
          }
        },
        {
          "output_type": "display_data",
          "data": {
            "text/markdown": "## Sub Classes   : {'Class4', 'Class3'}",
            "text/plain": [
              "<IPython.core.display.Markdown object>"
            ]
          },
          "metadata": {
            "tags": []
          }
        },
        {
          "output_type": "display_data",
          "data": {
            "text/markdown": "## Fields        : {'str1'}",
            "text/plain": [
              "<IPython.core.display.Markdown object>"
            ]
          },
          "metadata": {
            "tags": []
          }
        },
        {
          "output_type": "display_data",
          "data": {
            "text/markdown": "## Methods       : {'one'}",
            "text/plain": [
              "<IPython.core.display.Markdown object>"
            ]
          },
          "metadata": {
            "tags": []
          }
        },
        {
          "output_type": "display_data",
          "data": {
            "text/markdown": "# Class Class2",
            "text/plain": [
              "<IPython.core.display.Markdown object>"
            ]
          },
          "metadata": {
            "tags": []
          }
        },
        {
          "output_type": "display_data",
          "data": {
            "text/markdown": "## Super Classes : {'object'}",
            "text/plain": [
              "<IPython.core.display.Markdown object>"
            ]
          },
          "metadata": {
            "tags": []
          }
        },
        {
          "output_type": "display_data",
          "data": {
            "text/markdown": "## Sub Classes   : {'Class4', 'Class3'}",
            "text/plain": [
              "<IPython.core.display.Markdown object>"
            ]
          },
          "metadata": {
            "tags": []
          }
        },
        {
          "output_type": "display_data",
          "data": {
            "text/markdown": "## Fields        : {'str2'}",
            "text/plain": [
              "<IPython.core.display.Markdown object>"
            ]
          },
          "metadata": {
            "tags": []
          }
        },
        {
          "output_type": "display_data",
          "data": {
            "text/markdown": "## Methods       : {'two'}",
            "text/plain": [
              "<IPython.core.display.Markdown object>"
            ]
          },
          "metadata": {
            "tags": []
          }
        },
        {
          "output_type": "display_data",
          "data": {
            "text/markdown": "# Class Class3",
            "text/plain": [
              "<IPython.core.display.Markdown object>"
            ]
          },
          "metadata": {
            "tags": []
          }
        },
        {
          "output_type": "display_data",
          "data": {
            "text/markdown": "## Super Classes : {'Class2', 'object', 'Class1'}",
            "text/plain": [
              "<IPython.core.display.Markdown object>"
            ]
          },
          "metadata": {
            "tags": []
          }
        },
        {
          "output_type": "display_data",
          "data": {
            "text/markdown": "## Sub Classes   : {'Class4'}",
            "text/plain": [
              "<IPython.core.display.Markdown object>"
            ]
          },
          "metadata": {
            "tags": []
          }
        },
        {
          "output_type": "display_data",
          "data": {
            "text/markdown": "## Fields        : {'str2', 'str1', 'str3'}",
            "text/plain": [
              "<IPython.core.display.Markdown object>"
            ]
          },
          "metadata": {
            "tags": []
          }
        },
        {
          "output_type": "display_data",
          "data": {
            "text/markdown": "## Methods       : {'three', 'one', 'two'}",
            "text/plain": [
              "<IPython.core.display.Markdown object>"
            ]
          },
          "metadata": {
            "tags": []
          }
        },
        {
          "output_type": "display_data",
          "data": {
            "text/markdown": "# Class Class4",
            "text/plain": [
              "<IPython.core.display.Markdown object>"
            ]
          },
          "metadata": {
            "tags": []
          }
        },
        {
          "output_type": "display_data",
          "data": {
            "text/markdown": "## Super Classes : {'Class2', 'object', 'Class1', 'Class3'}",
            "text/plain": [
              "<IPython.core.display.Markdown object>"
            ]
          },
          "metadata": {
            "tags": []
          }
        },
        {
          "output_type": "display_data",
          "data": {
            "text/markdown": "## Sub Classes   : set()",
            "text/plain": [
              "<IPython.core.display.Markdown object>"
            ]
          },
          "metadata": {
            "tags": []
          }
        },
        {
          "output_type": "display_data",
          "data": {
            "text/markdown": "## Fields        : {'str4'}",
            "text/plain": [
              "<IPython.core.display.Markdown object>"
            ]
          },
          "metadata": {
            "tags": []
          }
        },
        {
          "output_type": "display_data",
          "data": {
            "text/markdown": "## Methods       : {'three', 'four', 'one', 'two'}",
            "text/plain": [
              "<IPython.core.display.Markdown object>"
            ]
          },
          "metadata": {
            "tags": []
          }
        }
      ]
    }
  ]
}